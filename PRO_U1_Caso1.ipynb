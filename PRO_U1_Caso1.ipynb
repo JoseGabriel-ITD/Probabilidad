{
  "nbformat": 4,
  "nbformat_minor": 0,
  "metadata": {
    "colab": {
      "provenance": [],
      "authorship_tag": "ABX9TyNAFHZOIU0bQQ/a7/A/jy/P",
      "include_colab_link": true
    },
    "kernelspec": {
      "name": "python3",
      "display_name": "Python 3"
    },
    "language_info": {
      "name": "python"
    }
  },
  "cells": [
    {
      "cell_type": "markdown",
      "metadata": {
        "id": "view-in-github",
        "colab_type": "text"
      },
      "source": [
        "<a href=\"https://colab.research.google.com/github/JoseGabriel-ITD/Probabilidad/blob/main/PRO_U1_Caso1.ipynb\" target=\"_parent\"><img src=\"https://colab.research.google.com/assets/colab-badge.svg\" alt=\"Open In Colab\"/></a>"
      ]
    },
    {
      "cell_type": "code",
      "execution_count": 1,
      "metadata": {
        "colab": {
          "base_uri": "https://localhost:8080/"
        },
        "id": "ZKtFyLh64HoA",
        "outputId": "0cee229d-df0a-460d-f980-f12468252759"
      },
      "outputs": [
        {
          "output_type": "stream",
          "name": "stdout",
          "text": [
            "Números aleatorios generados:\n",
            "[64, 64, 32, 38, 41, 60, 47, 45, 70, 44, 69, 70, 31, 48, 42, 61, 44, 34, 59, 66, 38, 36, 61, 30, 45, 33, 19, 66, 25, 59, 49, 40, 57, 61, 28, 43, 35, 54, 52, 48, 44, 34, 60, 66, 48, 50, 60, 40, 60, 63, 31, 47, 28, 59, 36, 35, 38, 33, 43, 64, 44, 49, 40, 31, 69, 59, 47, 31, 24, 55, 44, 59, 35, 36, 55, 38, 33, 46, 42, 28, 30, 36, 23, 69, 38, 53, 20, 52, 19, 70, 29, 51, 53, 24, 37, 51, 29, 48, 54, 65]\n"
          ]
        }
      ],
      "source": [
        "import random\n",
        "\n",
        "def generar_numeros_aleatorios(cantidad, rango_inicio, rango_fin):\n",
        "    numeros_aleatorios = []\n",
        "    for _ in range(cantidad):\n",
        "        numero = random.randint(rango_inicio, rango_fin)\n",
        "        numeros_aleatorios.append(numero)\n",
        "    return numeros_aleatorios\n",
        "\n",
        "# Generar 100 números aleatorios entre 18 y 70\n",
        "numeros_aleatorios = generar_numeros_aleatorios(100, 18, 70)\n",
        "\n",
        "# Imprimir los números generados\n",
        "print(\"Números aleatorios generados:\")\n",
        "print(numeros_aleatorios)\n"
      ]
    },
    {
      "cell_type": "code",
      "source": [
        "import random\n",
        "import matplotlib.pyplot as plt\n",
        "\n",
        "def generar_numeros_aleatorios(cantidad, rango_inicio, rango_fin):\n",
        "    numeros_aleatorios = []\n",
        "    for _ in range(cantidad):\n",
        "        numero = random.randint(rango_inicio, rango_fin)\n",
        "        numeros_aleatorios.append(numero)\n",
        "    return numeros_aleatorios\n",
        "\n",
        "# Generar 100 números aleatorios entre 18 y 70\n",
        "numeros_aleatorios = generar_numeros_aleatorios(100, 18, 70)\n",
        "\n",
        "# Crear el gráfico de frecuencias\n",
        "plt.hist(numeros_aleatorios, bins=10, color='skyblue', edgecolor='black')\n",
        "\n",
        "# Configurar etiquetas y título\n",
        "plt.xlabel('Edad')\n",
        "plt.ylabel('Frecuencia')\n",
        "plt.title('Histograma de Frecuencias de Edades')\n",
        "\n",
        "# Mostrar el gráfico\n",
        "plt.show()\n"
      ],
      "metadata": {
        "colab": {
          "base_uri": "https://localhost:8080/",
          "height": 472
        },
        "id": "9GMweMxI4voh",
        "outputId": "4b85f967-868c-4f29-a5cf-03b2ff29c5f2"
      },
      "execution_count": 2,
      "outputs": [
        {
          "output_type": "display_data",
          "data": {
            "text/plain": [
              "<Figure size 640x480 with 1 Axes>"
            ],
            "image/png": "[encoded data removed]"
          },
          "metadata": {}
        }
      ]
    },
    {
      "cell_type": "code",
      "source": [
        "import random\n",
        "import pandas as pd\n",
        "\n",
        "def generar_numeros_aleatorios(cantidad, rango_inicio, rango_fin):\n",
        "    numeros_aleatorios = []\n",
        "    for _ in range(cantidad):\n",
        "        numero = random.randint(rango_inicio, rango_fin)\n",
        "        numeros_aleatorios.append(numero)\n",
        "    return numeros_aleatorios\n",
        "\n",
        "# Generar 100 números aleatorios entre 18 y 70\n",
        "numeros_aleatorios = generar_numeros_aleatorios(100, 18, 70)\n",
        "\n",
        "# Crear un DataFrame de pandas con los números aleatorios\n",
        "df = pd.DataFrame(numeros_aleatorios, columns=['Edad'])\n",
        "\n",
        "# Calcular la tabla de distribución de frecuencias\n",
        "tabla_frecuencias = df['Edad'].value_counts().reset_index()\n",
        "tabla_frecuencias.columns = ['Edad', 'Frecuencia']\n",
        "tabla_frecuencias = tabla_frecuencias.sort_values(by='Edad')\n",
        "\n",
        "# Imprimir la tabla de distribución de frecuencias\n",
        "print(\"Tabla de Distribución de Frecuencias:\")\n",
        "print(tabla_frecuencias)\n"
      ],
      "metadata": {
        "colab": {
          "base_uri": "https://localhost:8080/"
        },
        "id": "oTrlbC_u5OGL",
        "outputId": "e41ef8d5-696d-4614-87aa-590cdfe79162"
      },
      "execution_count": 3,
      "outputs": [
        {
          "output_type": "stream",
          "name": "stdout",
          "text": [
            "Tabla de Distribución de Frecuencias:\n",
            "    Edad  Frecuencia\n",
            "21    19           2\n",
            "3     20           4\n",
            "23    21           2\n",
            "27    22           2\n",
            "14    23           3\n",
            "29    24           2\n",
            "10    26           3\n",
            "30    27           2\n",
            "11    28           3\n",
            "9     29           3\n",
            "13    30           3\n",
            "15    31           3\n",
            "28    32           2\n",
            "22    33           2\n",
            "1     35           4\n",
            "33    38           1\n",
            "34    40           1\n",
            "37    41           1\n",
            "31    42           2\n",
            "24    43           2\n",
            "19    44           2\n",
            "41    45           1\n",
            "6     46           4\n",
            "25    47           2\n",
            "40    48           1\n",
            "35    49           1\n",
            "32    50           1\n",
            "17    51           2\n",
            "7     52           4\n",
            "2     53           4\n",
            "0     54           5\n",
            "38    55           1\n",
            "16    57           3\n",
            "36    58           1\n",
            "18    59           2\n",
            "12    61           3\n",
            "39    62           1\n",
            "20    63           2\n",
            "8     65           3\n",
            "26    66           2\n",
            "5     67           4\n",
            "4     69           4\n"
          ]
        }
      ]
    }
  ]
}